{
 "cells": [
  {
   "cell_type": "markdown",
   "metadata": {},
   "source": [
    "############ AFFICHER LE PIVOT DE GAUSS #########################\n",
    "def displays_sys_pivot_de_gauss_update(list_xy, nbrEquation, nbrVar, inconnu):\n",
    "    list_xy = np.array(list_xy) ; j = 0\n",
    "    for i in range(nbrEquation): \n",
    "        j = 0 ;  print(f'| {list_xy[i,j]} {inconnu[j]} + ', end='') \n",
    "        for k in range(1, nbrVar + 1 ):\n",
    "            if k < nbrVar :\n",
    "                j += 1 ; print(f'{list_xy[i,k]} {inconnu[j]} + ', end='')\n",
    "            else:\n",
    "                j+= 1 ; print(f'{list_xy[i,-2]} {inconnu[j]} = {list_xy[i,-1]}')\n",
    "sys = [[1,2,3,9] , [9,6,3 ,-1 ] , [1,5,4,0]]\n",
    "inconnu = ['x','y','z','t']"
   ]
  },
  {
   "cell_type": "markdown",
   "metadata": {},
   "source": [
    "####################COEFFICIENT ANNULATEUR #############################\n",
    "def variable_eliminator(myMatrice, coeff):\n",
    "    result = np.array([myMatrice[0] , myMatrice[1]])\n",
    " \n",
    "    print(\"result : \", result)\n",
    "    print(\"<-------------------------->\")\n",
    "    if isinstance(coeff, int) or isinstance(coeff, float):\n",
    "        if myMatrice[0][0] % int( myMatrice[1][0] )== 0 and myMatrice[1][0] <= myMatrice[0][0]:\n",
    "            result[1] *= coeff \n",
    "            \n",
    "        elif myMatrice[1][0] % myMatrice[0][0] == 0 and myMatrice[1][0] >= myMatrice[0][0] or (\n",
    "                myMatrice[1][0] <= myMatrice[0][0]):\n",
    "            result[0] *= coeff  \n",
    "        else:\n",
    "            print(\"error to isinstance -  int\")\n",
    "            \n",
    "    elif type(coeff) == list:\n",
    "        result[0] *= coeff[1] ;  result[1] *= coeff[0]\n",
    "         \n",
    "    else:\n",
    "        print(\"error\")\n",
    "\n",
    "    x = result[0] + result[1]\n",
    "    return x"
   ]
  },
  {
   "cell_type": "code",
   "execution_count": 250,
   "metadata": {},
   "outputs": [],
   "source": [
    "import numpy as np\n",
    "\n",
    "\n",
    "\n",
    "def setSystem_transformation(myMatrice, initSize, inconnu, pivotRegistered):\n",
    "    if len(myMatrice) == 2:\n",
    "        return [myMatrice, pivotRegistered]\n",
    "    else:\n",
    "        pivot = np.array(myMatrice[0])\n",
    "        turnExc = 1\n",
    "    \n",
    "        pivotRegistered = np.asarray()\n",
    "\n",
    "        while turnExc < len(pivot[0])   - 2:\n",
    "            pivot.append(setLines(myMatrice, pivot, 0, turnExc))\n",
    "            turnExc += 1\n",
    "        turnExc = 0\n",
    "        displays_sys_pivot_de_gauss(pivot, len(pivot), len(pivot) , inconnu)\n",
    "\n",
    "        result = [x[1::] for k, x in enumerate(pivot) if x != pivot[0]]\n",
    "     \n",
    "        # result = [x if ]\n",
    "        inconnu.pop(0)\n",
    "        #displays_sys_pivot_de_gauss(result , len(result) , len(result) , inconnu)\n",
    "        return setSystem_transformation(result, initSize, inconnu, pivotRegistered)\n",
    "\n"
   ]
  },
  {
   "cell_type": "code",
   "execution_count": 249,
   "metadata": {},
   "outputs": [],
   "source": [
    " \n"
   ]
  },
  {
   "cell_type": "code",
   "execution_count": 248,
   "metadata": {},
   "outputs": [],
   "source": []
  },
  {
   "cell_type": "code",
   "execution_count": null,
   "metadata": {},
   "outputs": [],
   "source": []
  }
 ],
 "metadata": {
  "kernelspec": {
   "display_name": "Python 3 (ipykernel)",
   "language": "python",
   "name": "python3"
  },
  "language_info": {
   "codemirror_mode": {
    "name": "ipython",
    "version": 3
   },
   "file_extension": ".py",
   "mimetype": "text/x-python",
   "name": "python",
   "nbconvert_exporter": "python",
   "pygments_lexer": "ipython3",
   "version": "3.11.5"
  }
 },
 "nbformat": 4,
 "nbformat_minor": 5
}
